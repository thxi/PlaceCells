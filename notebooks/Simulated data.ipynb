{
 "cells": [
  {
   "cell_type": "code",
   "execution_count": null,
   "metadata": {},
   "outputs": [],
   "source": [
    "import pandas as pd\n",
    "import numpy as np\n",
    "import matplotlib.pyplot as plt\n",
    "import seaborn as sns\n",
    "\n",
    "sns.set()\n",
    "\n",
    "from sklearn.preprocessing import quantile_transform"
   ]
  },
  {
   "cell_type": "code",
   "execution_count": null,
   "metadata": {},
   "outputs": [],
   "source": [
    "plt.style.use('seaborn')"
   ]
  },
  {
   "cell_type": "code",
   "execution_count": null,
   "metadata": {},
   "outputs": [],
   "source": [
    "%matplotlib notebook"
   ]
  },
  {
   "cell_type": "code",
   "execution_count": null,
   "metadata": {},
   "outputs": [],
   "source": []
  },
  {
   "cell_type": "markdown",
   "metadata": {},
   "source": [
    "Place fields:\n",
    "* circular\n",
    "* roughly same size\n",
    "* holes/obstacles are langer than the diameter of place fields\n",
    "* convex"
   ]
  },
  {
   "cell_type": "markdown",
   "metadata": {},
   "source": [
    "Try:\n",
    "0. holes\n",
    "1. holes\n",
    "2. holes\n",
    "3. holes"
   ]
  },
  {
   "cell_type": "markdown",
   "metadata": {},
   "source": [
    "Requirement: <br>\n",
    "Trajectory must pass through each pairwise intersection of place fields"
   ]
  },
  {
   "cell_type": "code",
   "execution_count": null,
   "metadata": {},
   "outputs": [],
   "source": [
    "N_SAMPLES = 10000\n",
    "N_FIELDS = 90\n",
    "N_NEURONS = 600"
   ]
  },
  {
   "cell_type": "code",
   "execution_count": null,
   "metadata": {},
   "outputs": [],
   "source": [
    "L = 1\n",
    "pf_rad = 0.1*L\n",
    "step = 0.1*L"
   ]
  },
  {
   "cell_type": "code",
   "execution_count": null,
   "metadata": {},
   "outputs": [],
   "source": [
    "from math import hypot, cos, sin, pi\n",
    "\n",
    "def add_field(p, fields):\n",
    "    for i, f in enumerate(fields):\n",
    "        if hypot(f[0]-p[0], f[1]-p[1]) < pf_rad:\n",
    "            return None\n",
    "    return p"
   ]
  },
  {
   "cell_type": "code",
   "execution_count": null,
   "metadata": {},
   "outputs": [],
   "source": [
    "samples = list((np.array([0.1, 0.1]),))\n",
    "phi = 0\n",
    "fields = []"
   ]
  },
  {
   "cell_type": "code",
   "execution_count": null,
   "metadata": {},
   "outputs": [],
   "source": []
  },
  {
   "cell_type": "code",
   "execution_count": null,
   "metadata": {},
   "outputs": [],
   "source": [
    "def update_pos(p, phi, dp, r):\n",
    "    phi = phi + dp\n",
    "    if phi > pi:\n",
    "        phi -= 2 * pi\n",
    "    if phi < -pi:\n",
    "        phi += 2 * pi\n",
    "    dx = r * cos(phi)\n",
    "    dy = r * sin(phi)\n",
    "    px = p[0] + dx\n",
    "    py = p[1] + dy\n",
    "    if px > 1 or px < 0:\n",
    "        return None, None\n",
    "    if py > 1 or py < 0:\n",
    "        return None, None\n",
    "    if (px > 0.4 and px < 0.6) and (py > 0.4 and py < 0.6):\n",
    "        return None, None\n",
    "    return np.array([px, py]), phi"
   ]
  },
  {
   "cell_type": "code",
   "execution_count": null,
   "metadata": {},
   "outputs": [],
   "source": []
  },
  {
   "cell_type": "code",
   "execution_count": null,
   "metadata": {},
   "outputs": [],
   "source": []
  },
  {
   "cell_type": "code",
   "execution_count": null,
   "metadata": {},
   "outputs": [],
   "source": []
  },
  {
   "cell_type": "code",
   "execution_count": null,
   "metadata": {
    "scrolled": false
   },
   "outputs": [],
   "source": [
    "import matplotlib.pyplot as plt \n",
    "import matplotlib.animation as animation \n",
    "import numpy as np\n",
    "from sklearn.preprocessing import quantile_transform\n",
    "\n",
    "\n",
    "N_DOTS = 100\n",
    "\n",
    "\n",
    "fig, ax =  plt.subplots(figsize=(4, 4), ncols=1)\n",
    "ax.set_xlim(0, 1)\n",
    "ax.set_ylim(0, 1)\n",
    "ax.set_title('random walk')\n",
    "\n",
    "colors = np.concatenate((np.zeros((N_DOTS, 3)), np.linspace(0, 1, N_DOTS).reshape(1,-1).T), axis=1)\n",
    "scat = ax.scatter([], [], lw=2)\n",
    "scat.set_color(colors)\n",
    "sizes = np.exp(np.linspace(0, 3, N_DOTS))\n",
    "scat.set_sizes(sizes)\n",
    "\n",
    "def animate(i):\n",
    "    global phi\n",
    "    r = np.random.uniform(0, 0.1*L)\n",
    "    dp = np.random.uniform(-pi/4, pi/4)\n",
    "    p, phi_new = update_pos(samples[-1], phi, dp, r)\n",
    "    if p is None:\n",
    "        phi = phi + pi / 4\n",
    "        if phi > pi:\n",
    "            phi -= 2 * pi\n",
    "        if phi < -pi:\n",
    "            phi += 2 * pi\n",
    "    else:\n",
    "        phi = phi_new\n",
    "        samples.append(p)\n",
    "        f = add_field(samples[-1], fields)\n",
    "        if f is not None:\n",
    "            fields.append(f)\n",
    "            circle = plt.Circle(f, pf_rad, fill=False, edgecolor='black')\n",
    "            ax.add_artist(circle)\n",
    "\n",
    "    \n",
    "    scat.set_offsets(samples[-N_DOTS:])\n",
    "    fig.gca().relim()\n",
    "    fig.gca().autoscale_view()\n",
    "\n",
    "\n",
    "# call the animator\n",
    "anim = animation.FuncAnimation(fig, animate,frames=1000,\n",
    "                               interval=10, repeat=True, blit=True) \n",
    "plt.tight_layout(pad=0)\n",
    "plt.show()"
   ]
  },
  {
   "cell_type": "code",
   "execution_count": null,
   "metadata": {},
   "outputs": [],
   "source": [
    "np.random.uniform(-pi/4, pi/4)"
   ]
  },
  {
   "cell_type": "code",
   "execution_count": null,
   "metadata": {},
   "outputs": [],
   "source": [
    "phi"
   ]
  },
  {
   "cell_type": "code",
   "execution_count": null,
   "metadata": {},
   "outputs": [],
   "source": [
    "samples"
   ]
  },
  {
   "cell_type": "code",
   "execution_count": null,
   "metadata": {},
   "outputs": [],
   "source": []
  },
  {
   "cell_type": "code",
   "execution_count": null,
   "metadata": {},
   "outputs": [],
   "source": [
    "len(samples)"
   ]
  },
  {
   "cell_type": "code",
   "execution_count": null,
   "metadata": {},
   "outputs": [],
   "source": [
    "len(fields)"
   ]
  },
  {
   "cell_type": "markdown",
   "metadata": {},
   "source": [
    "## update cells"
   ]
  },
  {
   "cell_type": "code",
   "execution_count": null,
   "metadata": {},
   "outputs": [],
   "source": [
    "cells = np.random.uniform(0, 0.2, size=(0, len(fields)))\n",
    "def update_cells(p):\n",
    "    global cells\n",
    "    #global fields\n",
    "    c = np.zeros((1, len(fields)))\n",
    "    for i, f in enumerate(fields):\n",
    "        #print(1/hypot(f[0]-p[0], f[1]-p[1]))\n",
    "        l = min(10, 1/hypot(f[0]-p[0], f[1]-p[1]))\n",
    "        c[0][i] = np.random.gamma(l, 1)\n",
    "    cells = np.append(cells, c, axis=0)"
   ]
  },
  {
   "cell_type": "code",
   "execution_count": null,
   "metadata": {},
   "outputs": [],
   "source": [
    "import matplotlib.pyplot as plt \n",
    "import matplotlib.animation as animation \n",
    "import numpy as np\n",
    "from sklearn.preprocessing import quantile_transform\n",
    "\n",
    "\n",
    "N_DOTS = 100\n",
    "\n",
    "\n",
    "fig, ax =  plt.subplots(figsize=(4, 4), ncols=1)\n",
    "ax.set_xlim(0, 1)\n",
    "ax.set_ylim(0, 1)\n",
    "ax.set_title('random walk')\n",
    "\n",
    "colors = np.concatenate((np.zeros((N_DOTS, 3)), np.linspace(0, 1, N_DOTS).reshape(1,-1).T), axis=1)\n",
    "scat = ax.scatter([], [], lw=2)\n",
    "scat.set_color(colors)\n",
    "sizes = np.exp(np.linspace(0, 3, N_DOTS))\n",
    "scat.set_sizes(sizes)\n",
    "\n",
    "def animate(i):\n",
    "    global phi\n",
    "    r = np.random.uniform(0, 0.1*L)\n",
    "    dp = np.random.uniform(-pi/4, pi/4)\n",
    "    p, phi_new = update_pos(samples[-1], phi, dp, r)\n",
    "    if p is None:\n",
    "        phi = phi + pi / 4\n",
    "        if phi > pi:\n",
    "            phi -= 2 * pi\n",
    "        if phi < -pi:\n",
    "            phi += 2 * pi\n",
    "    else:\n",
    "        phi = phi_new\n",
    "        samples.append(p)\n",
    "        update_cells(p)\n",
    "\n",
    "    \n",
    "    scat.set_offsets(samples[-N_DOTS:])\n",
    "    fig.gca().relim()\n",
    "    fig.gca().autoscale_view()\n",
    "\n",
    "\n",
    "# call the animator\n",
    "anim = animation.FuncAnimation(fig, animate,frames=1000,\n",
    "                               interval=10, repeat=True, blit=True) \n",
    "plt.tight_layout(pad=0)\n",
    "plt.show()"
   ]
  },
  {
   "cell_type": "code",
   "execution_count": null,
   "metadata": {},
   "outputs": [],
   "source": []
  },
  {
   "cell_type": "code",
   "execution_count": null,
   "metadata": {},
   "outputs": [],
   "source": []
  },
  {
   "cell_type": "code",
   "execution_count": null,
   "metadata": {},
   "outputs": [],
   "source": []
  },
  {
   "cell_type": "code",
   "execution_count": null,
   "metadata": {},
   "outputs": [],
   "source": []
  },
  {
   "cell_type": "code",
   "execution_count": null,
   "metadata": {},
   "outputs": [],
   "source": []
  },
  {
   "cell_type": "markdown",
   "metadata": {},
   "source": [
    "# OLD\n",
    "and not interesting really"
   ]
  },
  {
   "cell_type": "code",
   "execution_count": null,
   "metadata": {},
   "outputs": [],
   "source": [
    "samples = []\n",
    "\n",
    "while (len(samples) < N_SAMPLES):\n",
    "    r = np.random.uniform(0, L, size=2)\n",
    "    if not(r[0] > 0.25 and r[0] < 0.75 and r[1] > 0.25 and r[1] < 0.75):\n",
    "        samples.append(r)"
   ]
  },
  {
   "cell_type": "code",
   "execution_count": null,
   "metadata": {
    "scrolled": true
   },
   "outputs": [],
   "source": [
    "samples = np.array(samples).reshape(-1, 2)"
   ]
  },
  {
   "cell_type": "code",
   "execution_count": null,
   "metadata": {},
   "outputs": [],
   "source": [
    "plt.scatter(samples[:, 0], samples[:, 1])"
   ]
  },
  {
   "cell_type": "code",
   "execution_count": null,
   "metadata": {},
   "outputs": [],
   "source": [
    "fields = []\n",
    "while (len(fields) < N_FIELDS):\n",
    "    r = np.random.uniform(0, L, size=2)\n",
    "    if not(r[0] > 0.25 and r[0] < 0.75 and r[1] > 0.25 and r[1] < 0.75):\n",
    "        fields.append(r)"
   ]
  },
  {
   "cell_type": "code",
   "execution_count": null,
   "metadata": {},
   "outputs": [],
   "source": [
    "fields = np.array(fields).reshape(-1, 2)"
   ]
  },
  {
   "cell_type": "code",
   "execution_count": null,
   "metadata": {
    "scrolled": true
   },
   "outputs": [],
   "source": [
    "plt.scatter(fields[:, 0], fields[:, 1]);"
   ]
  },
  {
   "cell_type": "code",
   "execution_count": null,
   "metadata": {},
   "outputs": [],
   "source": [
    "l_fig = 8\n",
    "fig, ax = plt.subplots(figsize=(l_fig, l_fig), ncols=1)\n",
    "\n",
    "for f in fields:\n",
    "    circle = plt.Circle(f, pf_rad, fill=False, edgecolor='black')\n",
    "    ax.add_artist(circle)\n"
   ]
  },
  {
   "cell_type": "code",
   "execution_count": null,
   "metadata": {},
   "outputs": [],
   "source": [
    "cells = np.random.uniform(0, 0.2, size=(N_SAMPLES, N_NEURONS))"
   ]
  },
  {
   "cell_type": "code",
   "execution_count": null,
   "metadata": {},
   "outputs": [],
   "source": [
    "cells"
   ]
  },
  {
   "cell_type": "markdown",
   "metadata": {},
   "source": [
    "Each place field is assigned 1 neuron which fires in this specific place field"
   ]
  },
  {
   "cell_type": "code",
   "execution_count": null,
   "metadata": {},
   "outputs": [],
   "source": [
    "# for each sample in samples\n",
    "# see what fields it is in\n",
    "# cells[i_fields] = np.random.poisson(1)\n"
   ]
  },
  {
   "cell_type": "code",
   "execution_count": null,
   "metadata": {},
   "outputs": [],
   "source": [
    "from math import hypot\n",
    "\n",
    "for n_sample, s in enumerate(samples):\n",
    "    idx = []\n",
    "    for i, f in enumerate(fields):\n",
    "        if hypot(f[0]-s[0], f[1]-s[1]) < pf_rad:\n",
    "            idx.append(i)\n",
    "    #print(idx)\n",
    "    cells[n_sample, idx] = np.random.poisson(1)"
   ]
  },
  {
   "cell_type": "code",
   "execution_count": null,
   "metadata": {},
   "outputs": [],
   "source": [
    "cells"
   ]
  },
  {
   "cell_type": "code",
   "execution_count": null,
   "metadata": {},
   "outputs": [],
   "source": [
    "full = pd.DataFrame(cells)"
   ]
  },
  {
   "cell_type": "code",
   "execution_count": null,
   "metadata": {},
   "outputs": [],
   "source": [
    "full.columns = full.columns.astype(str) + 'N'\n",
    "full['x'] = samples[:, 0]\n",
    "full['y'] = samples[:, 1]"
   ]
  },
  {
   "cell_type": "code",
   "execution_count": null,
   "metadata": {},
   "outputs": [],
   "source": [
    "full"
   ]
  },
  {
   "cell_type": "code",
   "execution_count": null,
   "metadata": {},
   "outputs": [],
   "source": [
    "def get_angle(coordinates, cx = 0, cy = 0):\n",
    "    return np.angle((coordinates['x'] - cx) + 1j * (coordinates['y'] - cy))"
   ]
  },
  {
   "cell_type": "code",
   "execution_count": null,
   "metadata": {},
   "outputs": [],
   "source": [
    "cx = 0.5\n",
    "cy = 0.5"
   ]
  },
  {
   "cell_type": "code",
   "execution_count": null,
   "metadata": {},
   "outputs": [],
   "source": [
    "full['ang'] = get_angle(full, cx, cy)"
   ]
  },
  {
   "cell_type": "code",
   "execution_count": null,
   "metadata": {},
   "outputs": [],
   "source": [
    "fig, ax = plt.subplots(figsize=(6, 5), ncols=1)\n",
    "plt.scatter(full['x'], full['y'],\n",
    "        c=full['ang'],\n",
    "        cmap='hsv',\n",
    "        linewidth=0,\n",
    "        s=2.5)\n",
    "plt.plot(cx, cy, 'cx') \n",
    "plt.colorbar();"
   ]
  },
  {
   "cell_type": "code",
   "execution_count": null,
   "metadata": {},
   "outputs": [],
   "source": [
    "mi = full.drop(['x', 'y'], axis=1)"
   ]
  },
  {
   "cell_type": "code",
   "execution_count": null,
   "metadata": {},
   "outputs": [],
   "source": []
  },
  {
   "cell_type": "markdown",
   "metadata": {},
   "source": [
    "# neurons walk \n",
    "quick sanity check"
   ]
  },
  {
   "cell_type": "code",
   "execution_count": null,
   "metadata": {},
   "outputs": [],
   "source": [
    "N_NEURONS = 20"
   ]
  },
  {
   "cell_type": "code",
   "execution_count": null,
   "metadata": {},
   "outputs": [],
   "source": [
    "from sklearn.feature_selection import mutual_info_regression"
   ]
  },
  {
   "cell_type": "code",
   "execution_count": null,
   "metadata": {},
   "outputs": [],
   "source": [
    "mi_scores = mutual_info_regression(mi.drop(['ang'], axis=1), mi['ang'])"
   ]
  },
  {
   "cell_type": "code",
   "execution_count": null,
   "metadata": {},
   "outputs": [],
   "source": [
    "mi_scores_df = pd.DataFrame([mi_scores], columns=mi.drop(['ang'],axis=1).columns).T.rename(columns={0: 'mi_score'})"
   ]
  },
  {
   "cell_type": "code",
   "execution_count": null,
   "metadata": {},
   "outputs": [],
   "source": [
    "mi_scores_df = mi_scores_df.sort_values(by=['mi_score'], ascending=False)"
   ]
  },
  {
   "cell_type": "code",
   "execution_count": null,
   "metadata": {},
   "outputs": [],
   "source": [
    "mi_scores_df = mi_scores_df.iloc[:N_NEURONS]"
   ]
  },
  {
   "cell_type": "code",
   "execution_count": null,
   "metadata": {},
   "outputs": [],
   "source": [
    "fig, ax = plt.subplots(figsize=(10, 10), ncols=1)\n",
    "\n",
    "ax = sns.barplot(x=mi_scores_df['mi_score'], y=mi_scores_df.index, ax=ax);\n",
    "ax.set_title(\"MI-scores of 24 best neurons\");\n",
    "fig.tight_layout();"
   ]
  },
  {
   "cell_type": "code",
   "execution_count": null,
   "metadata": {},
   "outputs": [],
   "source": [
    "mi_scores_df.to_csv(\"data/gen_mi_best_neurons.csv\")"
   ]
  },
  {
   "cell_type": "code",
   "execution_count": null,
   "metadata": {},
   "outputs": [],
   "source": [
    "full.to_csv(\"data/gen_clean.csv\")"
   ]
  },
  {
   "cell_type": "code",
   "execution_count": null,
   "metadata": {},
   "outputs": [],
   "source": []
  },
  {
   "cell_type": "code",
   "execution_count": null,
   "metadata": {
    "scrolled": false
   },
   "outputs": [],
   "source": [
    "from sklearn.preprocessing import quantile_transform\n",
    "\n",
    "fig, ax =  plt.subplots(figsize=(l_fig, l_fig), ncols=1)\n",
    "\n",
    "col='80N'\n",
    "\n",
    "s = full.loc[:, ['x', 'y', col]].sort_values(col)\n",
    "s[col] = quantile_transform(s[col].values.reshape(-1, 1), copy=True)\n",
    "ax.scatter(s['x'], s['y'],\n",
    "            c=s[col],\n",
    "            cmap='viridis',\n",
    "            linewidth=0,\n",
    "            s=np.exp(5*s[col]),\n",
    "            alpha=0.1,\n",
    "            edgecolors='none');"
   ]
  },
  {
   "cell_type": "code",
   "execution_count": null,
   "metadata": {},
   "outputs": [],
   "source": []
  }
 ],
 "metadata": {
  "kernelspec": {
   "display_name": "Python 3",
   "language": "python",
   "name": "python3"
  },
  "language_info": {
   "codemirror_mode": {
    "name": "ipython",
    "version": 3
   },
   "file_extension": ".py",
   "mimetype": "text/x-python",
   "name": "python",
   "nbconvert_exporter": "python",
   "pygments_lexer": "ipython3",
   "version": "3.8.3"
  }
 },
 "nbformat": 4,
 "nbformat_minor": 4
}
