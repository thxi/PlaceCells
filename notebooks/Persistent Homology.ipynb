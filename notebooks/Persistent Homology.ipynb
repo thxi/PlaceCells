{
 "cells": [
  {
   "cell_type": "code",
   "execution_count": 2,
   "metadata": {},
   "outputs": [],
   "source": [
    "import warnings\n",
    "#warnings.simplefilter(action='ignore', category=FutureWarning)\n",
    "#warnings.simplefilter(action='ignore', category=SettingWithCopyWarning)\n",
    "warnings.filterwarnings('ignore')"
   ]
  },
  {
   "cell_type": "code",
   "execution_count": 3,
   "metadata": {},
   "outputs": [],
   "source": [
    "import pandas as pd\n",
    "import numpy as np\n",
    "import matplotlib.pyplot as plt\n",
    "import seaborn as sns\n",
    "\n",
    "sns.set()\n",
    "\n",
    "from sklearn.preprocessing import quantile_transform\n",
    "\n",
    "%matplotlib inline"
   ]
  },
  {
   "cell_type": "code",
   "execution_count": 4,
   "metadata": {},
   "outputs": [],
   "source": [
    "full = pd.read_csv('data/gen_1_holes.csv', index_col = 0)\n",
    "# full = pd.read_csv('data/CA1_6_1_clean.csv', index_col = 0)"
   ]
  },
  {
   "cell_type": "code",
   "execution_count": 5,
   "metadata": {},
   "outputs": [
    {
     "data": {
      "text/html": [
       "<div>\n",
       "<style scoped>\n",
       "    .dataframe tbody tr th:only-of-type {\n",
       "        vertical-align: middle;\n",
       "    }\n",
       "\n",
       "    .dataframe tbody tr th {\n",
       "        vertical-align: top;\n",
       "    }\n",
       "\n",
       "    .dataframe thead th {\n",
       "        text-align: right;\n",
       "    }\n",
       "</style>\n",
       "<table border=\"1\" class=\"dataframe\">\n",
       "  <thead>\n",
       "    <tr style=\"text-align: right;\">\n",
       "      <th></th>\n",
       "      <th>0N</th>\n",
       "      <th>1N</th>\n",
       "      <th>2N</th>\n",
       "      <th>3N</th>\n",
       "      <th>4N</th>\n",
       "      <th>5N</th>\n",
       "      <th>6N</th>\n",
       "      <th>7N</th>\n",
       "      <th>8N</th>\n",
       "      <th>9N</th>\n",
       "      <th>...</th>\n",
       "      <th>193N</th>\n",
       "      <th>194N</th>\n",
       "      <th>195N</th>\n",
       "      <th>196N</th>\n",
       "      <th>197N</th>\n",
       "      <th>198N</th>\n",
       "      <th>199N</th>\n",
       "      <th>x</th>\n",
       "      <th>y</th>\n",
       "      <th>ang</th>\n",
       "    </tr>\n",
       "  </thead>\n",
       "  <tbody>\n",
       "    <tr>\n",
       "      <th>0</th>\n",
       "      <td>6.137285</td>\n",
       "      <td>6.097568</td>\n",
       "      <td>7.981179</td>\n",
       "      <td>2.657686</td>\n",
       "      <td>8.919547</td>\n",
       "      <td>4.274941</td>\n",
       "      <td>5.179740</td>\n",
       "      <td>3.329182</td>\n",
       "      <td>1.932031</td>\n",
       "      <td>0.178958</td>\n",
       "      <td>...</td>\n",
       "      <td>0.052298</td>\n",
       "      <td>1.043834</td>\n",
       "      <td>0.758416</td>\n",
       "      <td>0.041510</td>\n",
       "      <td>0.570631</td>\n",
       "      <td>0.361448</td>\n",
       "      <td>0.879365</td>\n",
       "      <td>0.316915</td>\n",
       "      <td>0.037568</td>\n",
       "      <td>-1.947778</td>\n",
       "    </tr>\n",
       "    <tr>\n",
       "      <th>1</th>\n",
       "      <td>1.128934</td>\n",
       "      <td>6.372495</td>\n",
       "      <td>10.931732</td>\n",
       "      <td>5.148409</td>\n",
       "      <td>4.566580</td>\n",
       "      <td>7.450268</td>\n",
       "      <td>3.145072</td>\n",
       "      <td>2.717946</td>\n",
       "      <td>1.464976</td>\n",
       "      <td>2.153725</td>\n",
       "      <td>...</td>\n",
       "      <td>0.177679</td>\n",
       "      <td>1.146309</td>\n",
       "      <td>0.179111</td>\n",
       "      <td>1.535442</td>\n",
       "      <td>0.826470</td>\n",
       "      <td>0.002301</td>\n",
       "      <td>0.435258</td>\n",
       "      <td>0.397302</td>\n",
       "      <td>0.084844</td>\n",
       "      <td>-1.813300</td>\n",
       "    </tr>\n",
       "    <tr>\n",
       "      <th>2</th>\n",
       "      <td>0.853555</td>\n",
       "      <td>3.371220</td>\n",
       "      <td>9.012780</td>\n",
       "      <td>3.539809</td>\n",
       "      <td>6.774548</td>\n",
       "      <td>10.779202</td>\n",
       "      <td>2.431839</td>\n",
       "      <td>1.256614</td>\n",
       "      <td>2.002973</td>\n",
       "      <td>0.709518</td>\n",
       "      <td>...</td>\n",
       "      <td>0.098760</td>\n",
       "      <td>1.443941</td>\n",
       "      <td>0.464352</td>\n",
       "      <td>0.682519</td>\n",
       "      <td>0.280986</td>\n",
       "      <td>0.235136</td>\n",
       "      <td>0.557921</td>\n",
       "      <td>0.449147</td>\n",
       "      <td>0.079035</td>\n",
       "      <td>-1.691014</td>\n",
       "    </tr>\n",
       "    <tr>\n",
       "      <th>3</th>\n",
       "      <td>0.699315</td>\n",
       "      <td>5.615830</td>\n",
       "      <td>5.725598</td>\n",
       "      <td>2.757512</td>\n",
       "      <td>3.292234</td>\n",
       "      <td>13.453683</td>\n",
       "      <td>6.159488</td>\n",
       "      <td>2.802111</td>\n",
       "      <td>1.799720</td>\n",
       "      <td>1.586054</td>\n",
       "      <td>...</td>\n",
       "      <td>0.213535</td>\n",
       "      <td>0.937239</td>\n",
       "      <td>0.383083</td>\n",
       "      <td>0.716624</td>\n",
       "      <td>0.692223</td>\n",
       "      <td>0.140585</td>\n",
       "      <td>0.121586</td>\n",
       "      <td>0.474667</td>\n",
       "      <td>0.057570</td>\n",
       "      <td>-1.627992</td>\n",
       "    </tr>\n",
       "    <tr>\n",
       "      <th>4</th>\n",
       "      <td>2.934969</td>\n",
       "      <td>0.965006</td>\n",
       "      <td>2.585714</td>\n",
       "      <td>4.674477</td>\n",
       "      <td>6.684643</td>\n",
       "      <td>6.955064</td>\n",
       "      <td>10.598396</td>\n",
       "      <td>7.053686</td>\n",
       "      <td>1.640949</td>\n",
       "      <td>5.961785</td>\n",
       "      <td>...</td>\n",
       "      <td>0.171356</td>\n",
       "      <td>1.847330</td>\n",
       "      <td>0.162991</td>\n",
       "      <td>0.130131</td>\n",
       "      <td>1.095337</td>\n",
       "      <td>1.971624</td>\n",
       "      <td>1.846373</td>\n",
       "      <td>0.540623</td>\n",
       "      <td>0.028656</td>\n",
       "      <td>-1.484823</td>\n",
       "    </tr>\n",
       "  </tbody>\n",
       "</table>\n",
       "<p>5 rows × 203 columns</p>\n",
       "</div>"
      ],
      "text/plain": [
       "         0N        1N         2N        3N        4N         5N         6N  \\\n",
       "0  6.137285  6.097568   7.981179  2.657686  8.919547   4.274941   5.179740   \n",
       "1  1.128934  6.372495  10.931732  5.148409  4.566580   7.450268   3.145072   \n",
       "2  0.853555  3.371220   9.012780  3.539809  6.774548  10.779202   2.431839   \n",
       "3  0.699315  5.615830   5.725598  2.757512  3.292234  13.453683   6.159488   \n",
       "4  2.934969  0.965006   2.585714  4.674477  6.684643   6.955064  10.598396   \n",
       "\n",
       "         7N        8N        9N  ...      193N      194N      195N      196N  \\\n",
       "0  3.329182  1.932031  0.178958  ...  0.052298  1.043834  0.758416  0.041510   \n",
       "1  2.717946  1.464976  2.153725  ...  0.177679  1.146309  0.179111  1.535442   \n",
       "2  1.256614  2.002973  0.709518  ...  0.098760  1.443941  0.464352  0.682519   \n",
       "3  2.802111  1.799720  1.586054  ...  0.213535  0.937239  0.383083  0.716624   \n",
       "4  7.053686  1.640949  5.961785  ...  0.171356  1.847330  0.162991  0.130131   \n",
       "\n",
       "       197N      198N      199N         x         y       ang  \n",
       "0  0.570631  0.361448  0.879365  0.316915  0.037568 -1.947778  \n",
       "1  0.826470  0.002301  0.435258  0.397302  0.084844 -1.813300  \n",
       "2  0.280986  0.235136  0.557921  0.449147  0.079035 -1.691014  \n",
       "3  0.692223  0.140585  0.121586  0.474667  0.057570 -1.627992  \n",
       "4  1.095337  1.971624  1.846373  0.540623  0.028656 -1.484823  \n",
       "\n",
       "[5 rows x 203 columns]"
      ]
     },
     "execution_count": 5,
     "metadata": {},
     "output_type": "execute_result"
    }
   ],
   "source": [
    "full.head()"
   ]
  },
  {
   "cell_type": "code",
   "execution_count": 7,
   "metadata": {},
   "outputs": [],
   "source": [
    "full = full.drop(['x','y', 'ang'], axis=1)\n",
    "# full = full.drop(['x','y', 'segment'], axis=1)"
   ]
  },
  {
   "cell_type": "code",
   "execution_count": null,
   "metadata": {},
   "outputs": [],
   "source": []
  },
  {
   "cell_type": "code",
   "execution_count": null,
   "metadata": {},
   "outputs": [],
   "source": [
    "import json\n",
    "\n",
    "with open('data/lr_neurons.json') as f:\n",
    "    neurons = json.load(f)"
   ]
  },
  {
   "cell_type": "code",
   "execution_count": null,
   "metadata": {},
   "outputs": [],
   "source": [
    "full = full.loc[:, neurons]"
   ]
  },
  {
   "cell_type": "code",
   "execution_count": null,
   "metadata": {},
   "outputs": [],
   "source": [
    "#mis = pd.read_csv('data/gen_mi_best_neurons.csv', index_col=0);\n",
    "#mis['neuron'] = mis.index"
   ]
  },
  {
   "cell_type": "code",
   "execution_count": null,
   "metadata": {},
   "outputs": [],
   "source": [
    "import gc"
   ]
  },
  {
   "cell_type": "code",
   "execution_count": 22,
   "metadata": {},
   "outputs": [],
   "source": [
    "from dionysus import Filtration, homology_persistence, init_diagrams, Simplex\n",
    "from collections import Counter\n",
    "from itertools import chain, combinations\n",
    "\n",
    "def powerset(iterable):\n",
    "    \"powerset([1,2,3]) --> () (1,) (2,) (3,) (1,2) (1,3) (2,3) (1,2,3)\"\n",
    "    s = list(iterable)\n",
    "    return chain.from_iterable(combinations(s, r) for r in range(len(s)+1))\n",
    "\n",
    "def get_cycles_for_filtration(filtration, end_time=np.inf):\n",
    "    m = homology_persistence(filtration, prime=2, progress=True)\n",
    "    dgms = init_diagrams(m, filtration)\n",
    "    cycles = []\n",
    "    for i, dgm in enumerate(dgms):\n",
    "        for pt in dgm:\n",
    "            cycles.append((i, pt.birth, pt.death))\n",
    "            #print((i, pt.birth,pt.death))\n",
    "    cycles = pd.DataFrame(cycles, columns=['dimension', 'birth_time', 'death_time'])\n",
    "    cycles['living_time'] = cycles['death_time'] - cycles['birth_time']\n",
    "    inf_life = (cycles['living_time'] == np.inf)\n",
    "    cycles['living_time'][inf_life] = end_time - cycles['birth_time'][inf_life]\n",
    "    return cycles.sort_values('dimension', ascending=True)\n",
    "\n",
    "\n",
    "\n",
    "def homologies(df, number_of_ap):\n",
    "    # time - simplexes that live > time%\n",
    "    # number_of_ap = (time/100) * len(df)\n",
    "    #number_of_ap=90\n",
    "    #print(number_of_ap)\n",
    "\n",
    "    df = quantile_transform(df)\n",
    "    time = 10\n",
    "    filtration = Filtration()\n",
    "    cnt = 0\n",
    "    for alpha in np.arange(0.50, 0.99, 0.05):\n",
    "        neuron_activity = df > alpha\n",
    "        \n",
    "        complexes = []\n",
    "        sims = np.sum(neuron_activity * (2**np.arange(neuron_activity.shape[1])), axis=1)\n",
    "        for sim, cnt in Counter(sims).items():\n",
    "            if cnt > number_of_ap:\n",
    "                complexes.append(np.where(np.array(list(bin(int(sim))[2:][::-1])) == '1')[0])\n",
    "        \n",
    "        del sims\n",
    "        \n",
    "        all_simplexes = []\n",
    "        for compl in complexes:\n",
    "            for s in list(powerset(compl))[1:]:\n",
    "                all_simplexes.append(s)\n",
    "                \n",
    "                \n",
    "        print(alpha, len(all_simplexes))\n",
    "        for sim in all_simplexes:\n",
    "            filtration.append(Simplex(sim, alpha))\n",
    "        del all_simplexes\n",
    "#         gc.collect(0)\n",
    "#         gc.collect(1)\n",
    "#         gc.collect(2)\n",
    "        #print()\n",
    "    cycles = get_cycles_for_filtration(filtration, 0.95)\n",
    "    cycles.columns = [f\"{col}_{number_of_ap/df.shape[0]}\" for col in cycles.columns]\n",
    "    \n",
    "    return cycles.reset_index(drop=True)"
   ]
  },
  {
   "cell_type": "code",
   "execution_count": null,
   "metadata": {},
   "outputs": [],
   "source": []
  },
  {
   "cell_type": "code",
   "execution_count": 23,
   "metadata": {},
   "outputs": [
    {
     "data": {
      "text/plain": [
       "[<matplotlib.lines.Line2D at 0x7f84c75055b0>]"
      ]
     },
     "execution_count": 23,
     "metadata": {},
     "output_type": "execute_result"
    },
    {
     "data": {
      "image/png": "[encoded data removed]",
      "text/plain": [
       "<Figure size 432x288 with 1 Axes>"
      ]
     },
     "metadata": {
      "needs_background": "light"
     },
     "output_type": "display_data"
    }
   ],
   "source": [
    "plt.plot(full['60N'])"
   ]
  },
  {
   "cell_type": "code",
   "execution_count": 24,
   "metadata": {
    "scrolled": false
   },
   "outputs": [],
   "source": [
    "full = full.iloc[:, :61]"
   ]
  },
  {
   "cell_type": "code",
   "execution_count": null,
   "metadata": {},
   "outputs": [],
   "source": []
  },
  {
   "cell_type": "code",
   "execution_count": null,
   "metadata": {
    "scrolled": false
   },
   "outputs": [],
   "source": [
    "for n in [50, 60, 70, 80, 90, 100, 200, 500][:1]:\n",
    "    print(n)\n",
    "    #mi_best_neurons = mis[:10]['neuron']\n",
    "    #data = full.drop(['x', 'y'], axis=1)[mi_best_neurons.index]\n",
    "    df = homologies(full[:500], n)\n",
    "    print(df.T)\n",
    "    print()"
   ]
  },
  {
   "cell_type": "code",
   "execution_count": null,
   "metadata": {},
   "outputs": [],
   "source": []
  },
  {
   "cell_type": "code",
   "execution_count": null,
   "metadata": {},
   "outputs": [],
   "source": []
  }
 ],
 "metadata": {
  "kernelspec": {
   "display_name": "Python 3",
   "language": "python",
   "name": "python3"
  },
  "language_info": {
   "codemirror_mode": {
    "name": "ipython",
    "version": 3
   },
   "file_extension": ".py",
   "mimetype": "text/x-python",
   "name": "python",
   "nbconvert_exporter": "python",
   "pygments_lexer": "ipython3",
   "version": "3.8.3"
  }
 },
 "nbformat": 4,
 "nbformat_minor": 4
}
